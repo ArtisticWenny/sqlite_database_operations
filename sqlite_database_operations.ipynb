{
  "nbformat": 4,
  "nbformat_minor": 0,
  "metadata": {
    "colab": {
      "provenance": [],
      "authorship_tag": "ABX9TyNh01q/e6UcCdhpa2a465Pf",
      "include_colab_link": true
    },
    "kernelspec": {
      "name": "python3",
      "display_name": "Python 3"
    },
    "language_info": {
      "name": "python"
    }
  },
  "cells": [
    {
      "cell_type": "markdown",
      "metadata": {
        "id": "view-in-github",
        "colab_type": "text"
      },
      "source": [
        "<a href=\"https://colab.research.google.com/github/ArtisticWenny/sqlite_database_operations/blob/main/sqlite_database_operations.ipynb\" target=\"_parent\"><img src=\"https://colab.research.google.com/assets/colab-badge.svg\" alt=\"Open In Colab\"/></a>"
      ]
    },
    {
      "cell_type": "markdown",
      "source": [
        "## Data Exploration and Analysis"
      ],
      "metadata": {
        "id": "e5IdwLwQ3gzN"
      }
    },
    {
      "cell_type": "code",
      "execution_count": 1,
      "metadata": {
        "id": "AEyshv_W0FL5"
      },
      "outputs": [],
      "source": [
        "import pandas as pd"
      ]
    },
    {
      "cell_type": "code",
      "source": [
        "from google.colab import drive\n",
        "\n",
        "drive.mount('/content/drive')"
      ],
      "metadata": {
        "colab": {
          "base_uri": "https://localhost:8080/"
        },
        "id": "pwfdWrlj3ypx",
        "outputId": "5ac1b7ff-41fc-425b-e54b-ca6b4a55b74f"
      },
      "execution_count": 2,
      "outputs": [
        {
          "output_type": "stream",
          "name": "stdout",
          "text": [
            "Mounted at /content/drive\n"
          ]
        }
      ]
    },
    {
      "cell_type": "code",
      "source": [
        "csv_file_path = ['/content/drive/MyDrive/Hospital_Cost_Report_2019.csv']\n",
        "\n",
        "df = pd.read_csv('/content/drive/MyDrive/Hospital_Cost_Report_2019.csv')\n",
        "\n",
        "print(df.head)"
      ],
      "metadata": {
        "id": "QGCNHcVM4qAQ"
      },
      "execution_count": null,
      "outputs": []
    },
    {
      "cell_type": "code",
      "source": [
        "\n",
        "# Import the pricing transparency dataset from Stanford Health Care\n",
        "stanford_df = pd.read_csv('')\n",
        "\n",
        "# Import the pricing transparency dataset from Lucile Packard Children's Hospital Stanford\n",
        "lpch_df = pd.read_csv('')"
      ],
      "metadata": {
        "id": "YDugstNu4tIp"
      },
      "execution_count": null,
      "outputs": []
    }
  ]
}